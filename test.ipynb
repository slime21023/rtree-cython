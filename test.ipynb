{
 "cells": [
  {
   "cell_type": "code",
   "execution_count": 58,
   "metadata": {},
   "outputs": [
    {
     "name": "stdout",
     "output_type": "stream",
     "text": [
      "5\n",
      "False\n",
      "False\n",
      "False\n",
      "False\n",
      "False\n"
     ]
    }
   ],
   "source": [
    "from lib.RTreeCy import MBR, LeafEntry, RTree\n",
    "import numpy as np\n",
    "\n",
    "tree = RTree(min_children=2, max_children=256, n_dims=2)\n",
    "samples = np.random.rand(100000, 256)\n",
    "\n",
    "entries = []\n",
    "i = 0\n",
    "for x in samples:\n",
    "    i += 1\n",
    "    # print(i)\n",
    "    e = tree.insert_datapoint(x, i)\n",
    "    entries.append(e)"
   ]
  }
 ],
 "metadata": {
  "kernelspec": {
   "display_name": "Python 3 (ipykernel)",
   "language": "python",
   "name": "python3"
  },
  "language_info": {
   "codemirror_mode": {
    "name": "ipython",
    "version": 3
   },
   "file_extension": ".py",
   "mimetype": "text/x-python",
   "name": "python",
   "nbconvert_exporter": "python",
   "pygments_lexer": "ipython3",
   "version": "3.8.8"
  }
 },
 "nbformat": 4,
 "nbformat_minor": 4
}
